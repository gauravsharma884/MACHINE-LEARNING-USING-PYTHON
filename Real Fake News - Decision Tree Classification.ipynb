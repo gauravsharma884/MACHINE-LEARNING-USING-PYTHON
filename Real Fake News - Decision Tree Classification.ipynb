{
 "cells": [
  {
   "cell_type": "code",
   "execution_count": 1,
   "id": "37860147",
   "metadata": {},
   "outputs": [],
   "source": [
    "import numpy as np\n",
    "import pandas as pd\n",
    "from matplotlib import pyplot as plt\n",
    "from sklearn.metrics import confusion_matrix\n",
    "from sklearn.neighbors import KNeighborsClassifier\n",
    "from sklearn.model_selection import train_test_split\n",
    "import seaborn as sns\n",
    "sns.set()"
   ]
  },
  {
   "cell_type": "code",
   "execution_count": 2,
   "id": "406b72b5",
   "metadata": {},
   "outputs": [],
   "source": [
    "df = pd.read_csv('Real_fake_news.csv')"
   ]
  },
  {
   "cell_type": "code",
   "execution_count": 3,
   "id": "49ed19f1",
   "metadata": {},
   "outputs": [
    {
     "data": {
      "text/html": [
       "<div>\n",
       "<style scoped>\n",
       "    .dataframe tbody tr th:only-of-type {\n",
       "        vertical-align: middle;\n",
       "    }\n",
       "\n",
       "    .dataframe tbody tr th {\n",
       "        vertical-align: top;\n",
       "    }\n",
       "\n",
       "    .dataframe thead th {\n",
       "        text-align: right;\n",
       "    }\n",
       "</style>\n",
       "<table border=\"1\" class=\"dataframe\">\n",
       "  <thead>\n",
       "    <tr style=\"text-align: right;\">\n",
       "      <th></th>\n",
       "      <th>Unnamed: 0</th>\n",
       "      <th>Unnamed: 0.1</th>\n",
       "      <th>author</th>\n",
       "      <th>statement</th>\n",
       "      <th>source</th>\n",
       "      <th>target</th>\n",
       "      <th>BinaryTarget</th>\n",
       "      <th>BinaryNumTarget</th>\n",
       "    </tr>\n",
       "  </thead>\n",
       "  <tbody>\n",
       "    <tr>\n",
       "      <th>0</th>\n",
       "      <td>0</td>\n",
       "      <td>0</td>\n",
       "      <td>Jill Terreri</td>\n",
       "      <td>New York is \"leading the nation with the lowes...</td>\n",
       "      <td>NYS Department of Corrections and Community Su...</td>\n",
       "      <td>True</td>\n",
       "      <td>REAL</td>\n",
       "      <td>1</td>\n",
       "    </tr>\n",
       "    <tr>\n",
       "      <th>1</th>\n",
       "      <td>1</td>\n",
       "      <td>1</td>\n",
       "      <td>Eleanor Hildebrandt</td>\n",
       "      <td>“Iowa ranks 45th in the U.S. for internet conn...</td>\n",
       "      <td>Cindy Axne</td>\n",
       "      <td>True</td>\n",
       "      <td>REAL</td>\n",
       "      <td>1</td>\n",
       "    </tr>\n",
       "    <tr>\n",
       "      <th>2</th>\n",
       "      <td>2</td>\n",
       "      <td>2</td>\n",
       "      <td>Emily Zirkelbach</td>\n",
       "      <td>“FUN FACT: West Virginia is home to zero billi...</td>\n",
       "      <td>David Gura</td>\n",
       "      <td>True</td>\n",
       "      <td>REAL</td>\n",
       "      <td>1</td>\n",
       "    </tr>\n",
       "    <tr>\n",
       "      <th>3</th>\n",
       "      <td>3</td>\n",
       "      <td>3</td>\n",
       "      <td>Madeline Heim</td>\n",
       "      <td>Says gubernatorial candidate Rebecca Kleefisch...</td>\n",
       "      <td>Kelda Helen Roys</td>\n",
       "      <td>True</td>\n",
       "      <td>REAL</td>\n",
       "      <td>1</td>\n",
       "    </tr>\n",
       "    <tr>\n",
       "      <th>4</th>\n",
       "      <td>4</td>\n",
       "      <td>4</td>\n",
       "      <td>Sabine Martin</td>\n",
       "      <td>The Biden administration \"published a study co...</td>\n",
       "      <td>Randy Feenstra</td>\n",
       "      <td>True</td>\n",
       "      <td>REAL</td>\n",
       "      <td>1</td>\n",
       "    </tr>\n",
       "  </tbody>\n",
       "</table>\n",
       "</div>"
      ],
      "text/plain": [
       "   Unnamed: 0  Unnamed: 0.1               author  \\\n",
       "0           0             0         Jill Terreri   \n",
       "1           1             1  Eleanor Hildebrandt   \n",
       "2           2             2     Emily Zirkelbach   \n",
       "3           3             3        Madeline Heim   \n",
       "4           4             4        Sabine Martin   \n",
       "\n",
       "                                           statement  \\\n",
       "0  New York is \"leading the nation with the lowes...   \n",
       "1  “Iowa ranks 45th in the U.S. for internet conn...   \n",
       "2  “FUN FACT: West Virginia is home to zero billi...   \n",
       "3  Says gubernatorial candidate Rebecca Kleefisch...   \n",
       "4  The Biden administration \"published a study co...   \n",
       "\n",
       "                                              source  target BinaryTarget  \\\n",
       "0  NYS Department of Corrections and Community Su...    True         REAL   \n",
       "1                                         Cindy Axne    True         REAL   \n",
       "2                                         David Gura    True         REAL   \n",
       "3                                   Kelda Helen Roys    True         REAL   \n",
       "4                                     Randy Feenstra    True         REAL   \n",
       "\n",
       "   BinaryNumTarget  \n",
       "0                1  \n",
       "1                1  \n",
       "2                1  \n",
       "3                1  \n",
       "4                1  "
      ]
     },
     "execution_count": 3,
     "metadata": {},
     "output_type": "execute_result"
    }
   ],
   "source": [
    "df.head()"
   ]
  },
  {
   "cell_type": "code",
   "execution_count": 4,
   "id": "4988b974",
   "metadata": {},
   "outputs": [
    {
     "data": {
      "text/html": [
       "<div>\n",
       "<style scoped>\n",
       "    .dataframe tbody tr th:only-of-type {\n",
       "        vertical-align: middle;\n",
       "    }\n",
       "\n",
       "    .dataframe tbody tr th {\n",
       "        vertical-align: top;\n",
       "    }\n",
       "\n",
       "    .dataframe thead th {\n",
       "        text-align: right;\n",
       "    }\n",
       "</style>\n",
       "<table border=\"1\" class=\"dataframe\">\n",
       "  <thead>\n",
       "    <tr style=\"text-align: right;\">\n",
       "      <th></th>\n",
       "      <th>Unnamed: 0</th>\n",
       "      <th>Unnamed: 0.1</th>\n",
       "      <th>author</th>\n",
       "      <th>statement</th>\n",
       "      <th>source</th>\n",
       "      <th>target</th>\n",
       "      <th>BinaryTarget</th>\n",
       "      <th>BinaryNumTarget</th>\n",
       "    </tr>\n",
       "  </thead>\n",
       "  <tbody>\n",
       "    <tr>\n",
       "      <th>4865</th>\n",
       "      <td>2431</td>\n",
       "      <td>2431</td>\n",
       "      <td>Bill McCarthy</td>\n",
       "      <td>\"Clinton campaign official arrested by FBI on ...</td>\n",
       "      <td>Bloggers</td>\n",
       "      <td>False</td>\n",
       "      <td>FAKE</td>\n",
       "      <td>0</td>\n",
       "    </tr>\n",
       "    <tr>\n",
       "      <th>4866</th>\n",
       "      <td>2432</td>\n",
       "      <td>2432</td>\n",
       "      <td>Miriam Valverde</td>\n",
       "      <td>\"Our courts find that 80 percent of those who ...</td>\n",
       "      <td>Jeff Sessions</td>\n",
       "      <td>False</td>\n",
       "      <td>FAKE</td>\n",
       "      <td>0</td>\n",
       "    </tr>\n",
       "    <tr>\n",
       "      <th>4867</th>\n",
       "      <td>2433</td>\n",
       "      <td>2433</td>\n",
       "      <td>Kiannah Sepeda-Miller</td>\n",
       "      <td>Says a progressive income tax proposal from De...</td>\n",
       "      <td>Evelyn Sanguinetti</td>\n",
       "      <td>False</td>\n",
       "      <td>FAKE</td>\n",
       "      <td>0</td>\n",
       "    </tr>\n",
       "    <tr>\n",
       "      <th>4868</th>\n",
       "      <td>2434</td>\n",
       "      <td>2434</td>\n",
       "      <td>Manuela Tobias</td>\n",
       "      <td>\"Maxine Waters Is Getting Criminally Charged!\"</td>\n",
       "      <td>Bloggers</td>\n",
       "      <td>False</td>\n",
       "      <td>FAKE</td>\n",
       "      <td>0</td>\n",
       "    </tr>\n",
       "    <tr>\n",
       "      <th>4869</th>\n",
       "      <td>2435</td>\n",
       "      <td>2435</td>\n",
       "      <td>Bill McCarthy</td>\n",
       "      <td>\"Twitter caught leaking Donald Trump’s private...</td>\n",
       "      <td>Bloggers</td>\n",
       "      <td>False</td>\n",
       "      <td>FAKE</td>\n",
       "      <td>0</td>\n",
       "    </tr>\n",
       "  </tbody>\n",
       "</table>\n",
       "</div>"
      ],
      "text/plain": [
       "      Unnamed: 0  Unnamed: 0.1                 author  \\\n",
       "4865        2431          2431          Bill McCarthy   \n",
       "4866        2432          2432        Miriam Valverde   \n",
       "4867        2433          2433  Kiannah Sepeda-Miller   \n",
       "4868        2434          2434         Manuela Tobias   \n",
       "4869        2435          2435          Bill McCarthy   \n",
       "\n",
       "                                              statement              source  \\\n",
       "4865  \"Clinton campaign official arrested by FBI on ...            Bloggers   \n",
       "4866  \"Our courts find that 80 percent of those who ...       Jeff Sessions   \n",
       "4867  Says a progressive income tax proposal from De...  Evelyn Sanguinetti   \n",
       "4868     \"Maxine Waters Is Getting Criminally Charged!\"            Bloggers   \n",
       "4869  \"Twitter caught leaking Donald Trump’s private...            Bloggers   \n",
       "\n",
       "      target BinaryTarget  BinaryNumTarget  \n",
       "4865   False         FAKE                0  \n",
       "4866   False         FAKE                0  \n",
       "4867   False         FAKE                0  \n",
       "4868   False         FAKE                0  \n",
       "4869   False         FAKE                0  "
      ]
     },
     "execution_count": 4,
     "metadata": {},
     "output_type": "execute_result"
    }
   ],
   "source": [
    "df.tail()"
   ]
  },
  {
   "cell_type": "code",
   "execution_count": 5,
   "id": "1a2530f3",
   "metadata": {},
   "outputs": [
    {
     "data": {
      "text/plain": [
       "(4870, 8)"
      ]
     },
     "execution_count": 5,
     "metadata": {},
     "output_type": "execute_result"
    }
   ],
   "source": [
    "df.shape"
   ]
  },
  {
   "cell_type": "code",
   "execution_count": 6,
   "id": "5b10beab",
   "metadata": {},
   "outputs": [
    {
     "name": "stdout",
     "output_type": "stream",
     "text": [
      "<class 'pandas.core.frame.DataFrame'>\n",
      "RangeIndex: 4870 entries, 0 to 4869\n",
      "Data columns (total 8 columns):\n",
      " #   Column           Non-Null Count  Dtype \n",
      "---  ------           --------------  ----- \n",
      " 0   Unnamed: 0       4870 non-null   int64 \n",
      " 1   Unnamed: 0.1     4870 non-null   int64 \n",
      " 2   author           4870 non-null   object\n",
      " 3   statement        4870 non-null   object\n",
      " 4   source           4870 non-null   object\n",
      " 5   target           4870 non-null   bool  \n",
      " 6   BinaryTarget     4870 non-null   object\n",
      " 7   BinaryNumTarget  4870 non-null   int64 \n",
      "dtypes: bool(1), int64(3), object(4)\n",
      "memory usage: 271.2+ KB\n"
     ]
    }
   ],
   "source": [
    "df.info()"
   ]
  },
  {
   "cell_type": "code",
   "execution_count": 7,
   "id": "edf1886d",
   "metadata": {},
   "outputs": [
    {
     "data": {
      "text/html": [
       "<div>\n",
       "<style scoped>\n",
       "    .dataframe tbody tr th:only-of-type {\n",
       "        vertical-align: middle;\n",
       "    }\n",
       "\n",
       "    .dataframe tbody tr th {\n",
       "        vertical-align: top;\n",
       "    }\n",
       "\n",
       "    .dataframe thead th {\n",
       "        text-align: right;\n",
       "    }\n",
       "</style>\n",
       "<table border=\"1\" class=\"dataframe\">\n",
       "  <thead>\n",
       "    <tr style=\"text-align: right;\">\n",
       "      <th></th>\n",
       "      <th>Unnamed: 0</th>\n",
       "      <th>Unnamed: 0.1</th>\n",
       "      <th>BinaryNumTarget</th>\n",
       "    </tr>\n",
       "  </thead>\n",
       "  <tbody>\n",
       "    <tr>\n",
       "      <th>count</th>\n",
       "      <td>4870.000000</td>\n",
       "      <td>4870.000000</td>\n",
       "      <td>4870.000000</td>\n",
       "    </tr>\n",
       "    <tr>\n",
       "      <th>mean</th>\n",
       "      <td>1217.500000</td>\n",
       "      <td>1217.500000</td>\n",
       "      <td>0.500000</td>\n",
       "    </tr>\n",
       "    <tr>\n",
       "      <th>std</th>\n",
       "      <td>702.996251</td>\n",
       "      <td>702.996251</td>\n",
       "      <td>0.500051</td>\n",
       "    </tr>\n",
       "    <tr>\n",
       "      <th>min</th>\n",
       "      <td>0.000000</td>\n",
       "      <td>0.000000</td>\n",
       "      <td>0.000000</td>\n",
       "    </tr>\n",
       "    <tr>\n",
       "      <th>25%</th>\n",
       "      <td>609.000000</td>\n",
       "      <td>609.000000</td>\n",
       "      <td>0.000000</td>\n",
       "    </tr>\n",
       "    <tr>\n",
       "      <th>50%</th>\n",
       "      <td>1217.500000</td>\n",
       "      <td>1217.500000</td>\n",
       "      <td>0.500000</td>\n",
       "    </tr>\n",
       "    <tr>\n",
       "      <th>75%</th>\n",
       "      <td>1826.000000</td>\n",
       "      <td>1826.000000</td>\n",
       "      <td>1.000000</td>\n",
       "    </tr>\n",
       "    <tr>\n",
       "      <th>max</th>\n",
       "      <td>2435.000000</td>\n",
       "      <td>2435.000000</td>\n",
       "      <td>1.000000</td>\n",
       "    </tr>\n",
       "  </tbody>\n",
       "</table>\n",
       "</div>"
      ],
      "text/plain": [
       "        Unnamed: 0  Unnamed: 0.1  BinaryNumTarget\n",
       "count  4870.000000   4870.000000      4870.000000\n",
       "mean   1217.500000   1217.500000         0.500000\n",
       "std     702.996251    702.996251         0.500051\n",
       "min       0.000000      0.000000         0.000000\n",
       "25%     609.000000    609.000000         0.000000\n",
       "50%    1217.500000   1217.500000         0.500000\n",
       "75%    1826.000000   1826.000000         1.000000\n",
       "max    2435.000000   2435.000000         1.000000"
      ]
     },
     "execution_count": 7,
     "metadata": {},
     "output_type": "execute_result"
    }
   ],
   "source": [
    "df.describe()"
   ]
  },
  {
   "cell_type": "code",
   "execution_count": 8,
   "id": "6dca8413",
   "metadata": {},
   "outputs": [],
   "source": [
    "# Dropping the unnecessary columns\n",
    "df.drop(['Unnamed: 0','Unnamed: 0.1'], axis=1, inplace=True)"
   ]
  },
  {
   "cell_type": "code",
   "execution_count": 9,
   "id": "24016898",
   "metadata": {},
   "outputs": [
    {
     "data": {
      "text/html": [
       "<div>\n",
       "<style scoped>\n",
       "    .dataframe tbody tr th:only-of-type {\n",
       "        vertical-align: middle;\n",
       "    }\n",
       "\n",
       "    .dataframe tbody tr th {\n",
       "        vertical-align: top;\n",
       "    }\n",
       "\n",
       "    .dataframe thead th {\n",
       "        text-align: right;\n",
       "    }\n",
       "</style>\n",
       "<table border=\"1\" class=\"dataframe\">\n",
       "  <thead>\n",
       "    <tr style=\"text-align: right;\">\n",
       "      <th></th>\n",
       "      <th>author</th>\n",
       "      <th>statement</th>\n",
       "      <th>source</th>\n",
       "      <th>target</th>\n",
       "      <th>BinaryTarget</th>\n",
       "      <th>BinaryNumTarget</th>\n",
       "    </tr>\n",
       "  </thead>\n",
       "  <tbody>\n",
       "    <tr>\n",
       "      <th>0</th>\n",
       "      <td>Jill Terreri</td>\n",
       "      <td>New York is \"leading the nation with the lowes...</td>\n",
       "      <td>NYS Department of Corrections and Community Su...</td>\n",
       "      <td>True</td>\n",
       "      <td>REAL</td>\n",
       "      <td>1</td>\n",
       "    </tr>\n",
       "    <tr>\n",
       "      <th>1</th>\n",
       "      <td>Eleanor Hildebrandt</td>\n",
       "      <td>“Iowa ranks 45th in the U.S. for internet conn...</td>\n",
       "      <td>Cindy Axne</td>\n",
       "      <td>True</td>\n",
       "      <td>REAL</td>\n",
       "      <td>1</td>\n",
       "    </tr>\n",
       "    <tr>\n",
       "      <th>2</th>\n",
       "      <td>Emily Zirkelbach</td>\n",
       "      <td>“FUN FACT: West Virginia is home to zero billi...</td>\n",
       "      <td>David Gura</td>\n",
       "      <td>True</td>\n",
       "      <td>REAL</td>\n",
       "      <td>1</td>\n",
       "    </tr>\n",
       "    <tr>\n",
       "      <th>3</th>\n",
       "      <td>Madeline Heim</td>\n",
       "      <td>Says gubernatorial candidate Rebecca Kleefisch...</td>\n",
       "      <td>Kelda Helen Roys</td>\n",
       "      <td>True</td>\n",
       "      <td>REAL</td>\n",
       "      <td>1</td>\n",
       "    </tr>\n",
       "    <tr>\n",
       "      <th>4</th>\n",
       "      <td>Sabine Martin</td>\n",
       "      <td>The Biden administration \"published a study co...</td>\n",
       "      <td>Randy Feenstra</td>\n",
       "      <td>True</td>\n",
       "      <td>REAL</td>\n",
       "      <td>1</td>\n",
       "    </tr>\n",
       "  </tbody>\n",
       "</table>\n",
       "</div>"
      ],
      "text/plain": [
       "                author                                          statement  \\\n",
       "0         Jill Terreri  New York is \"leading the nation with the lowes...   \n",
       "1  Eleanor Hildebrandt  “Iowa ranks 45th in the U.S. for internet conn...   \n",
       "2     Emily Zirkelbach  “FUN FACT: West Virginia is home to zero billi...   \n",
       "3        Madeline Heim  Says gubernatorial candidate Rebecca Kleefisch...   \n",
       "4        Sabine Martin  The Biden administration \"published a study co...   \n",
       "\n",
       "                                              source  target BinaryTarget  \\\n",
       "0  NYS Department of Corrections and Community Su...    True         REAL   \n",
       "1                                         Cindy Axne    True         REAL   \n",
       "2                                         David Gura    True         REAL   \n",
       "3                                   Kelda Helen Roys    True         REAL   \n",
       "4                                     Randy Feenstra    True         REAL   \n",
       "\n",
       "   BinaryNumTarget  \n",
       "0                1  \n",
       "1                1  \n",
       "2                1  \n",
       "3                1  \n",
       "4                1  "
      ]
     },
     "execution_count": 9,
     "metadata": {},
     "output_type": "execute_result"
    }
   ],
   "source": [
    "df.head()"
   ]
  },
  {
   "cell_type": "code",
   "execution_count": 10,
   "id": "479657e3",
   "metadata": {},
   "outputs": [
    {
     "data": {
      "text/html": [
       "<div>\n",
       "<style scoped>\n",
       "    .dataframe tbody tr th:only-of-type {\n",
       "        vertical-align: middle;\n",
       "    }\n",
       "\n",
       "    .dataframe tbody tr th {\n",
       "        vertical-align: top;\n",
       "    }\n",
       "\n",
       "    .dataframe thead th {\n",
       "        text-align: right;\n",
       "    }\n",
       "</style>\n",
       "<table border=\"1\" class=\"dataframe\">\n",
       "  <thead>\n",
       "    <tr style=\"text-align: right;\">\n",
       "      <th></th>\n",
       "      <th>author</th>\n",
       "      <th>statement</th>\n",
       "      <th>source</th>\n",
       "      <th>target</th>\n",
       "      <th>BinaryTarget</th>\n",
       "      <th>BinaryNumTarget</th>\n",
       "    </tr>\n",
       "  </thead>\n",
       "  <tbody>\n",
       "    <tr>\n",
       "      <th>0</th>\n",
       "      <td>Jill Terreri</td>\n",
       "      <td>New York is \"leading the nation with the lowes...</td>\n",
       "      <td>NYS Department of Corrections and Community Su...</td>\n",
       "      <td>True</td>\n",
       "      <td>REAL</td>\n",
       "      <td>1</td>\n",
       "    </tr>\n",
       "    <tr>\n",
       "      <th>1</th>\n",
       "      <td>Eleanor Hildebrandt</td>\n",
       "      <td>“Iowa ranks 45th in the U.S. for internet conn...</td>\n",
       "      <td>Cindy Axne</td>\n",
       "      <td>True</td>\n",
       "      <td>REAL</td>\n",
       "      <td>1</td>\n",
       "    </tr>\n",
       "    <tr>\n",
       "      <th>2</th>\n",
       "      <td>Emily Zirkelbach</td>\n",
       "      <td>“FUN FACT: West Virginia is home to zero billi...</td>\n",
       "      <td>David Gura</td>\n",
       "      <td>True</td>\n",
       "      <td>REAL</td>\n",
       "      <td>1</td>\n",
       "    </tr>\n",
       "    <tr>\n",
       "      <th>3</th>\n",
       "      <td>Madeline Heim</td>\n",
       "      <td>Says gubernatorial candidate Rebecca Kleefisch...</td>\n",
       "      <td>Kelda Helen Roys</td>\n",
       "      <td>True</td>\n",
       "      <td>REAL</td>\n",
       "      <td>1</td>\n",
       "    </tr>\n",
       "    <tr>\n",
       "      <th>4</th>\n",
       "      <td>Sabine Martin</td>\n",
       "      <td>The Biden administration \"published a study co...</td>\n",
       "      <td>Randy Feenstra</td>\n",
       "      <td>True</td>\n",
       "      <td>REAL</td>\n",
       "      <td>1</td>\n",
       "    </tr>\n",
       "    <tr>\n",
       "      <th>...</th>\n",
       "      <td>...</td>\n",
       "      <td>...</td>\n",
       "      <td>...</td>\n",
       "      <td>...</td>\n",
       "      <td>...</td>\n",
       "      <td>...</td>\n",
       "    </tr>\n",
       "    <tr>\n",
       "      <th>4865</th>\n",
       "      <td>Bill McCarthy</td>\n",
       "      <td>\"Clinton campaign official arrested by FBI on ...</td>\n",
       "      <td>Bloggers</td>\n",
       "      <td>False</td>\n",
       "      <td>FAKE</td>\n",
       "      <td>0</td>\n",
       "    </tr>\n",
       "    <tr>\n",
       "      <th>4866</th>\n",
       "      <td>Miriam Valverde</td>\n",
       "      <td>\"Our courts find that 80 percent of those who ...</td>\n",
       "      <td>Jeff Sessions</td>\n",
       "      <td>False</td>\n",
       "      <td>FAKE</td>\n",
       "      <td>0</td>\n",
       "    </tr>\n",
       "    <tr>\n",
       "      <th>4867</th>\n",
       "      <td>Kiannah Sepeda-Miller</td>\n",
       "      <td>Says a progressive income tax proposal from De...</td>\n",
       "      <td>Evelyn Sanguinetti</td>\n",
       "      <td>False</td>\n",
       "      <td>FAKE</td>\n",
       "      <td>0</td>\n",
       "    </tr>\n",
       "    <tr>\n",
       "      <th>4868</th>\n",
       "      <td>Manuela Tobias</td>\n",
       "      <td>\"Maxine Waters Is Getting Criminally Charged!\"</td>\n",
       "      <td>Bloggers</td>\n",
       "      <td>False</td>\n",
       "      <td>FAKE</td>\n",
       "      <td>0</td>\n",
       "    </tr>\n",
       "    <tr>\n",
       "      <th>4869</th>\n",
       "      <td>Bill McCarthy</td>\n",
       "      <td>\"Twitter caught leaking Donald Trump’s private...</td>\n",
       "      <td>Bloggers</td>\n",
       "      <td>False</td>\n",
       "      <td>FAKE</td>\n",
       "      <td>0</td>\n",
       "    </tr>\n",
       "  </tbody>\n",
       "</table>\n",
       "<p>4870 rows × 6 columns</p>\n",
       "</div>"
      ],
      "text/plain": [
       "                     author  \\\n",
       "0              Jill Terreri   \n",
       "1       Eleanor Hildebrandt   \n",
       "2          Emily Zirkelbach   \n",
       "3             Madeline Heim   \n",
       "4             Sabine Martin   \n",
       "...                     ...   \n",
       "4865          Bill McCarthy   \n",
       "4866        Miriam Valverde   \n",
       "4867  Kiannah Sepeda-Miller   \n",
       "4868         Manuela Tobias   \n",
       "4869          Bill McCarthy   \n",
       "\n",
       "                                              statement  \\\n",
       "0     New York is \"leading the nation with the lowes...   \n",
       "1     “Iowa ranks 45th in the U.S. for internet conn...   \n",
       "2     “FUN FACT: West Virginia is home to zero billi...   \n",
       "3     Says gubernatorial candidate Rebecca Kleefisch...   \n",
       "4     The Biden administration \"published a study co...   \n",
       "...                                                 ...   \n",
       "4865  \"Clinton campaign official arrested by FBI on ...   \n",
       "4866  \"Our courts find that 80 percent of those who ...   \n",
       "4867  Says a progressive income tax proposal from De...   \n",
       "4868     \"Maxine Waters Is Getting Criminally Charged!\"   \n",
       "4869  \"Twitter caught leaking Donald Trump’s private...   \n",
       "\n",
       "                                                 source  target BinaryTarget  \\\n",
       "0     NYS Department of Corrections and Community Su...    True         REAL   \n",
       "1                                            Cindy Axne    True         REAL   \n",
       "2                                            David Gura    True         REAL   \n",
       "3                                      Kelda Helen Roys    True         REAL   \n",
       "4                                        Randy Feenstra    True         REAL   \n",
       "...                                                 ...     ...          ...   \n",
       "4865                                           Bloggers   False         FAKE   \n",
       "4866                                      Jeff Sessions   False         FAKE   \n",
       "4867                                 Evelyn Sanguinetti   False         FAKE   \n",
       "4868                                           Bloggers   False         FAKE   \n",
       "4869                                           Bloggers   False         FAKE   \n",
       "\n",
       "      BinaryNumTarget  \n",
       "0                   1  \n",
       "1                   1  \n",
       "2                   1  \n",
       "3                   1  \n",
       "4                   1  \n",
       "...               ...  \n",
       "4865                0  \n",
       "4866                0  \n",
       "4867                0  \n",
       "4868                0  \n",
       "4869                0  \n",
       "\n",
       "[4870 rows x 6 columns]"
      ]
     },
     "execution_count": 10,
     "metadata": {},
     "output_type": "execute_result"
    }
   ],
   "source": [
    "# Dropping the rows with null values\n",
    "df.dropna()"
   ]
  },
  {
   "cell_type": "code",
   "execution_count": 11,
   "id": "7463e029",
   "metadata": {},
   "outputs": [
    {
     "data": {
      "text/plain": [
       "(4870, 6)"
      ]
     },
     "execution_count": 11,
     "metadata": {},
     "output_type": "execute_result"
    }
   ],
   "source": [
    "df.shape"
   ]
  },
  {
   "cell_type": "code",
   "execution_count": 12,
   "id": "8fb9745a",
   "metadata": {},
   "outputs": [
    {
     "data": {
      "text/html": [
       "<div>\n",
       "<style scoped>\n",
       "    .dataframe tbody tr th:only-of-type {\n",
       "        vertical-align: middle;\n",
       "    }\n",
       "\n",
       "    .dataframe tbody tr th {\n",
       "        vertical-align: top;\n",
       "    }\n",
       "\n",
       "    .dataframe thead th {\n",
       "        text-align: right;\n",
       "    }\n",
       "</style>\n",
       "<table border=\"1\" class=\"dataframe\">\n",
       "  <thead>\n",
       "    <tr style=\"text-align: right;\">\n",
       "      <th></th>\n",
       "      <th>author</th>\n",
       "      <th>statement</th>\n",
       "      <th>source</th>\n",
       "      <th>target</th>\n",
       "      <th>BinaryTarget</th>\n",
       "      <th>BinaryNumTarget</th>\n",
       "    </tr>\n",
       "  </thead>\n",
       "  <tbody>\n",
       "    <tr>\n",
       "      <th>1406</th>\n",
       "      <td>Sue Owen</td>\n",
       "      <td>Says Milken Institute rated San Antonio as nat...</td>\n",
       "      <td>Julián Castro</td>\n",
       "      <td>True</td>\n",
       "      <td>REAL</td>\n",
       "      <td>1</td>\n",
       "    </tr>\n",
       "    <tr>\n",
       "      <th>4249</th>\n",
       "      <td>Daniel Funke</td>\n",
       "      <td>Says a series of photos show Iranian rockets b...</td>\n",
       "      <td>Facebook posts</td>\n",
       "      <td>False</td>\n",
       "      <td>FAKE</td>\n",
       "      <td>0</td>\n",
       "    </tr>\n",
       "  </tbody>\n",
       "</table>\n",
       "</div>"
      ],
      "text/plain": [
       "            author                                          statement  \\\n",
       "1406      Sue Owen  Says Milken Institute rated San Antonio as nat...   \n",
       "4249  Daniel Funke  Says a series of photos show Iranian rockets b...   \n",
       "\n",
       "              source  target BinaryTarget  BinaryNumTarget  \n",
       "1406   Julián Castro    True         REAL                1  \n",
       "4249  Facebook posts   False         FAKE                0  "
      ]
     },
     "execution_count": 12,
     "metadata": {},
     "output_type": "execute_result"
    }
   ],
   "source": [
    "#FInding rows that have duplicate values\n",
    "df[df.duplicated(keep = 'last')] "
   ]
  },
  {
   "cell_type": "code",
   "execution_count": 13,
   "id": "3b5e593e",
   "metadata": {},
   "outputs": [],
   "source": [
    "#Removing the duplicates\n",
    "df = df.drop_duplicates(subset = None, keep ='first')"
   ]
  },
  {
   "cell_type": "code",
   "execution_count": 14,
   "id": "ab65c9a3",
   "metadata": {},
   "outputs": [
    {
     "data": {
      "text/html": [
       "<div>\n",
       "<style scoped>\n",
       "    .dataframe tbody tr th:only-of-type {\n",
       "        vertical-align: middle;\n",
       "    }\n",
       "\n",
       "    .dataframe tbody tr th {\n",
       "        vertical-align: top;\n",
       "    }\n",
       "\n",
       "    .dataframe thead th {\n",
       "        text-align: right;\n",
       "    }\n",
       "</style>\n",
       "<table border=\"1\" class=\"dataframe\">\n",
       "  <thead>\n",
       "    <tr style=\"text-align: right;\">\n",
       "      <th></th>\n",
       "      <th>author</th>\n",
       "      <th>statement</th>\n",
       "      <th>source</th>\n",
       "      <th>target</th>\n",
       "      <th>BinaryTarget</th>\n",
       "      <th>BinaryNumTarget</th>\n",
       "    </tr>\n",
       "  </thead>\n",
       "  <tbody>\n",
       "    <tr>\n",
       "      <th>0</th>\n",
       "      <td>Jill Terreri</td>\n",
       "      <td>New York is \"leading the nation with the lowes...</td>\n",
       "      <td>NYS Department of Corrections and Community Su...</td>\n",
       "      <td>True</td>\n",
       "      <td>REAL</td>\n",
       "      <td>1</td>\n",
       "    </tr>\n",
       "    <tr>\n",
       "      <th>1</th>\n",
       "      <td>Eleanor Hildebrandt</td>\n",
       "      <td>“Iowa ranks 45th in the U.S. for internet conn...</td>\n",
       "      <td>Cindy Axne</td>\n",
       "      <td>True</td>\n",
       "      <td>REAL</td>\n",
       "      <td>1</td>\n",
       "    </tr>\n",
       "    <tr>\n",
       "      <th>2</th>\n",
       "      <td>Emily Zirkelbach</td>\n",
       "      <td>“FUN FACT: West Virginia is home to zero billi...</td>\n",
       "      <td>David Gura</td>\n",
       "      <td>True</td>\n",
       "      <td>REAL</td>\n",
       "      <td>1</td>\n",
       "    </tr>\n",
       "    <tr>\n",
       "      <th>3</th>\n",
       "      <td>Madeline Heim</td>\n",
       "      <td>Says gubernatorial candidate Rebecca Kleefisch...</td>\n",
       "      <td>Kelda Helen Roys</td>\n",
       "      <td>True</td>\n",
       "      <td>REAL</td>\n",
       "      <td>1</td>\n",
       "    </tr>\n",
       "    <tr>\n",
       "      <th>4</th>\n",
       "      <td>Sabine Martin</td>\n",
       "      <td>The Biden administration \"published a study co...</td>\n",
       "      <td>Randy Feenstra</td>\n",
       "      <td>True</td>\n",
       "      <td>REAL</td>\n",
       "      <td>1</td>\n",
       "    </tr>\n",
       "  </tbody>\n",
       "</table>\n",
       "</div>"
      ],
      "text/plain": [
       "                author                                          statement  \\\n",
       "0         Jill Terreri  New York is \"leading the nation with the lowes...   \n",
       "1  Eleanor Hildebrandt  “Iowa ranks 45th in the U.S. for internet conn...   \n",
       "2     Emily Zirkelbach  “FUN FACT: West Virginia is home to zero billi...   \n",
       "3        Madeline Heim  Says gubernatorial candidate Rebecca Kleefisch...   \n",
       "4        Sabine Martin  The Biden administration \"published a study co...   \n",
       "\n",
       "                                              source  target BinaryTarget  \\\n",
       "0  NYS Department of Corrections and Community Su...    True         REAL   \n",
       "1                                         Cindy Axne    True         REAL   \n",
       "2                                         David Gura    True         REAL   \n",
       "3                                   Kelda Helen Roys    True         REAL   \n",
       "4                                     Randy Feenstra    True         REAL   \n",
       "\n",
       "   BinaryNumTarget  \n",
       "0                1  \n",
       "1                1  \n",
       "2                1  \n",
       "3                1  \n",
       "4                1  "
      ]
     },
     "execution_count": 14,
     "metadata": {},
     "output_type": "execute_result"
    }
   ],
   "source": [
    "df.head()"
   ]
  },
  {
   "cell_type": "code",
   "execution_count": 15,
   "id": "5b986cfd",
   "metadata": {},
   "outputs": [
    {
     "data": {
      "text/plain": [
       "0    2434\n",
       "1    2434\n",
       "Name: BinaryNumTarget, dtype: int64"
      ]
     },
     "execution_count": 15,
     "metadata": {},
     "output_type": "execute_result"
    }
   ],
   "source": [
    "df.BinaryNumTarget.value_counts()"
   ]
  },
  {
   "cell_type": "code",
   "execution_count": 16,
   "id": "6ff09981",
   "metadata": {},
   "outputs": [],
   "source": [
    "# Defining numerical and categorical variables\n",
    "num_atr=[]\n",
    "\n",
    "cat_atr=['author' , 'statement' , 'source']"
   ]
  },
  {
   "cell_type": "code",
   "execution_count": 17,
   "id": "c3fa1c7f",
   "metadata": {},
   "outputs": [
    {
     "data": {
      "text/html": [
       "<div>\n",
       "<style scoped>\n",
       "    .dataframe tbody tr th:only-of-type {\n",
       "        vertical-align: middle;\n",
       "    }\n",
       "\n",
       "    .dataframe tbody tr th {\n",
       "        vertical-align: top;\n",
       "    }\n",
       "\n",
       "    .dataframe thead th {\n",
       "        text-align: right;\n",
       "    }\n",
       "</style>\n",
       "<table border=\"1\" class=\"dataframe\">\n",
       "  <thead>\n",
       "    <tr style=\"text-align: right;\">\n",
       "      <th></th>\n",
       "      <th>target</th>\n",
       "      <th>BinaryNumTarget</th>\n",
       "    </tr>\n",
       "  </thead>\n",
       "  <tbody>\n",
       "    <tr>\n",
       "      <th>target</th>\n",
       "      <td>1.0</td>\n",
       "      <td>1.0</td>\n",
       "    </tr>\n",
       "    <tr>\n",
       "      <th>BinaryNumTarget</th>\n",
       "      <td>1.0</td>\n",
       "      <td>1.0</td>\n",
       "    </tr>\n",
       "  </tbody>\n",
       "</table>\n",
       "</div>"
      ],
      "text/plain": [
       "                 target  BinaryNumTarget\n",
       "target              1.0              1.0\n",
       "BinaryNumTarget     1.0              1.0"
      ]
     },
     "execution_count": 17,
     "metadata": {},
     "output_type": "execute_result"
    }
   ],
   "source": [
    "# Correlation Matrix\n",
    "df.corr()"
   ]
  },
  {
   "cell_type": "code",
   "execution_count": 18,
   "id": "79a92e3d",
   "metadata": {},
   "outputs": [
    {
     "data": {
      "text/plain": [
       "author             object\n",
       "statement          object\n",
       "source             object\n",
       "target               bool\n",
       "BinaryTarget       object\n",
       "BinaryNumTarget     int64\n",
       "dtype: object"
      ]
     },
     "execution_count": 18,
     "metadata": {},
     "output_type": "execute_result"
    }
   ],
   "source": [
    "df.dtypes"
   ]
  },
  {
   "cell_type": "code",
   "execution_count": 19,
   "id": "e86c1cbf",
   "metadata": {},
   "outputs": [
    {
     "data": {
      "text/plain": [
       "Index(['author', 'statement', 'source', 'target', 'BinaryTarget',\n",
       "       'BinaryNumTarget'],\n",
       "      dtype='object')"
      ]
     },
     "execution_count": 19,
     "metadata": {},
     "output_type": "execute_result"
    }
   ],
   "source": [
    "df.columns"
   ]
  },
  {
   "cell_type": "code",
   "execution_count": 20,
   "id": "980323b3",
   "metadata": {},
   "outputs": [
    {
     "data": {
      "text/html": [
       "<div>\n",
       "<style scoped>\n",
       "    .dataframe tbody tr th:only-of-type {\n",
       "        vertical-align: middle;\n",
       "    }\n",
       "\n",
       "    .dataframe tbody tr th {\n",
       "        vertical-align: top;\n",
       "    }\n",
       "\n",
       "    .dataframe thead th {\n",
       "        text-align: right;\n",
       "    }\n",
       "</style>\n",
       "<table border=\"1\" class=\"dataframe\">\n",
       "  <thead>\n",
       "    <tr style=\"text-align: right;\">\n",
       "      <th></th>\n",
       "      <th>author</th>\n",
       "      <th>statement</th>\n",
       "      <th>source</th>\n",
       "      <th>target</th>\n",
       "      <th>BinaryTarget</th>\n",
       "      <th>BinaryNumTarget</th>\n",
       "    </tr>\n",
       "  </thead>\n",
       "  <tbody>\n",
       "    <tr>\n",
       "      <th>0</th>\n",
       "      <td>Jill Terreri</td>\n",
       "      <td>New York is \"leading the nation with the lowes...</td>\n",
       "      <td>NYS Department of Corrections and Community Su...</td>\n",
       "      <td>True</td>\n",
       "      <td>REAL</td>\n",
       "      <td>1</td>\n",
       "    </tr>\n",
       "    <tr>\n",
       "      <th>1</th>\n",
       "      <td>Eleanor Hildebrandt</td>\n",
       "      <td>“Iowa ranks 45th in the U.S. for internet conn...</td>\n",
       "      <td>Cindy Axne</td>\n",
       "      <td>True</td>\n",
       "      <td>REAL</td>\n",
       "      <td>1</td>\n",
       "    </tr>\n",
       "    <tr>\n",
       "      <th>2</th>\n",
       "      <td>Emily Zirkelbach</td>\n",
       "      <td>“FUN FACT: West Virginia is home to zero billi...</td>\n",
       "      <td>David Gura</td>\n",
       "      <td>True</td>\n",
       "      <td>REAL</td>\n",
       "      <td>1</td>\n",
       "    </tr>\n",
       "    <tr>\n",
       "      <th>3</th>\n",
       "      <td>Madeline Heim</td>\n",
       "      <td>Says gubernatorial candidate Rebecca Kleefisch...</td>\n",
       "      <td>Kelda Helen Roys</td>\n",
       "      <td>True</td>\n",
       "      <td>REAL</td>\n",
       "      <td>1</td>\n",
       "    </tr>\n",
       "    <tr>\n",
       "      <th>4</th>\n",
       "      <td>Sabine Martin</td>\n",
       "      <td>The Biden administration \"published a study co...</td>\n",
       "      <td>Randy Feenstra</td>\n",
       "      <td>True</td>\n",
       "      <td>REAL</td>\n",
       "      <td>1</td>\n",
       "    </tr>\n",
       "  </tbody>\n",
       "</table>\n",
       "</div>"
      ],
      "text/plain": [
       "                author                                          statement  \\\n",
       "0         Jill Terreri  New York is \"leading the nation with the lowes...   \n",
       "1  Eleanor Hildebrandt  “Iowa ranks 45th in the U.S. for internet conn...   \n",
       "2     Emily Zirkelbach  “FUN FACT: West Virginia is home to zero billi...   \n",
       "3        Madeline Heim  Says gubernatorial candidate Rebecca Kleefisch...   \n",
       "4        Sabine Martin  The Biden administration \"published a study co...   \n",
       "\n",
       "                                              source  target BinaryTarget  \\\n",
       "0  NYS Department of Corrections and Community Su...    True         REAL   \n",
       "1                                         Cindy Axne    True         REAL   \n",
       "2                                         David Gura    True         REAL   \n",
       "3                                   Kelda Helen Roys    True         REAL   \n",
       "4                                     Randy Feenstra    True         REAL   \n",
       "\n",
       "   BinaryNumTarget  \n",
       "0                1  \n",
       "1                1  \n",
       "2                1  \n",
       "3                1  \n",
       "4                1  "
      ]
     },
     "execution_count": 20,
     "metadata": {},
     "output_type": "execute_result"
    }
   ],
   "source": [
    "df.head()"
   ]
  },
  {
   "cell_type": "code",
   "execution_count": 21,
   "id": "97728f51",
   "metadata": {},
   "outputs": [],
   "source": [
    "# Decision Tree Classification Algorithm"
   ]
  },
  {
   "cell_type": "code",
   "execution_count": 22,
   "id": "fe8095a2",
   "metadata": {},
   "outputs": [],
   "source": [
    "from sklearn.model_selection import train_test_split\n",
    "from sklearn.preprocessing import StandardScaler\n",
    "from sklearn.tree import DecisionTreeClassifier\n",
    "from sklearn.tree import export_graphviz\n",
    "from sklearn.datasets import load_iris"
   ]
  },
  {
   "cell_type": "code",
   "execution_count": 23,
   "id": "6e54f4e4",
   "metadata": {},
   "outputs": [],
   "source": [
    "from sklearn.tree import plot_tree\n",
    "import matplotlib.pyplot as plt"
   ]
  },
  {
   "cell_type": "code",
   "execution_count": 24,
   "id": "418af52a",
   "metadata": {},
   "outputs": [],
   "source": [
    "from IPython.core.interactiveshell import InteractiveShell\n",
    "InteractiveShell.ast_node_interactivity = \"all\""
   ]
  },
  {
   "cell_type": "code",
   "execution_count": 26,
   "id": "31514486",
   "metadata": {},
   "outputs": [],
   "source": [
    "X= df.drop(['BinaryNumTarget', 'BinaryTarget', 'target'], axis=1)\n",
    "y= df['BinaryNumTarget']\n",
    "\n",
    "\n",
    "X_train,X_test,y_train,y_test=train_test_split(X,y,test_size=0.3,random_state=1)"
   ]
  },
  {
   "cell_type": "code",
   "execution_count": 27,
   "id": "95c5831a",
   "metadata": {},
   "outputs": [
    {
     "data": {
      "text/plain": [
       "(4868,)"
      ]
     },
     "execution_count": 27,
     "metadata": {},
     "output_type": "execute_result"
    }
   ],
   "source": [
    "y.shape"
   ]
  },
  {
   "cell_type": "code",
   "execution_count": 28,
   "id": "1a246a4c",
   "metadata": {},
   "outputs": [
    {
     "data": {
      "text/plain": [
       "(4868, 3)"
      ]
     },
     "execution_count": 28,
     "metadata": {},
     "output_type": "execute_result"
    }
   ],
   "source": [
    "X.shape"
   ]
  },
  {
   "cell_type": "code",
   "execution_count": 29,
   "id": "5f576747",
   "metadata": {},
   "outputs": [],
   "source": [
    "from sklearn.preprocessing import LabelEncoder"
   ]
  },
  {
   "cell_type": "code",
   "execution_count": 30,
   "id": "c408aa45",
   "metadata": {},
   "outputs": [
    {
     "name": "stderr",
     "output_type": "stream",
     "text": [
      "C:\\ProgramData\\Anaconda3\\lib\\site-packages\\pandas\\core\\frame.py:3191: SettingWithCopyWarning: \n",
      "A value is trying to be set on a copy of a slice from a DataFrame.\n",
      "Try using .loc[row_indexer,col_indexer] = value instead\n",
      "\n",
      "See the caveats in the documentation: https://pandas.pydata.org/pandas-docs/stable/user_guide/indexing.html#returning-a-view-versus-a-copy\n",
      "  self[k1] = value[k2]\n"
     ]
    }
   ],
   "source": [
    "le = LabelEncoder()\n",
    "X_train[cat_atr] = X_train[cat_atr].apply(le.fit_transform)"
   ]
  },
  {
   "cell_type": "code",
   "execution_count": 31,
   "id": "69719314",
   "metadata": {},
   "outputs": [
    {
     "data": {
      "text/html": [
       "<div>\n",
       "<style scoped>\n",
       "    .dataframe tbody tr th:only-of-type {\n",
       "        vertical-align: middle;\n",
       "    }\n",
       "\n",
       "    .dataframe tbody tr th {\n",
       "        vertical-align: top;\n",
       "    }\n",
       "\n",
       "    .dataframe thead th {\n",
       "        text-align: right;\n",
       "    }\n",
       "</style>\n",
       "<table border=\"1\" class=\"dataframe\">\n",
       "  <thead>\n",
       "    <tr style=\"text-align: right;\">\n",
       "      <th></th>\n",
       "      <th>author</th>\n",
       "      <th>statement</th>\n",
       "      <th>source</th>\n",
       "    </tr>\n",
       "  </thead>\n",
       "  <tbody>\n",
       "    <tr>\n",
       "      <th>2175</th>\n",
       "      <td>20</td>\n",
       "      <td>627</td>\n",
       "      <td>561</td>\n",
       "    </tr>\n",
       "    <tr>\n",
       "      <th>4735</th>\n",
       "      <td>171</td>\n",
       "      <td>637</td>\n",
       "      <td>617</td>\n",
       "    </tr>\n",
       "    <tr>\n",
       "      <th>1151</th>\n",
       "      <td>110</td>\n",
       "      <td>611</td>\n",
       "      <td>294</td>\n",
       "    </tr>\n",
       "    <tr>\n",
       "      <th>3873</th>\n",
       "      <td>54</td>\n",
       "      <td>2788</td>\n",
       "      <td>1123</td>\n",
       "    </tr>\n",
       "    <tr>\n",
       "      <th>1529</th>\n",
       "      <td>119</td>\n",
       "      <td>957</td>\n",
       "      <td>766</td>\n",
       "    </tr>\n",
       "  </tbody>\n",
       "</table>\n",
       "</div>"
      ],
      "text/plain": [
       "      author  statement  source\n",
       "2175      20        627     561\n",
       "4735     171        637     617\n",
       "1151     110        611     294\n",
       "3873      54       2788    1123\n",
       "1529     119        957     766"
      ]
     },
     "execution_count": 31,
     "metadata": {},
     "output_type": "execute_result"
    }
   ],
   "source": [
    "X_train[cat_atr].head()"
   ]
  },
  {
   "cell_type": "code",
   "execution_count": 32,
   "id": "99ff5246",
   "metadata": {},
   "outputs": [
    {
     "data": {
      "text/plain": [
       "(3407, 3)"
      ]
     },
     "execution_count": 32,
     "metadata": {},
     "output_type": "execute_result"
    }
   ],
   "source": [
    "Xtr = X_train[cat_atr]\n",
    "Xtr.shape "
   ]
  },
  {
   "cell_type": "code",
   "execution_count": 33,
   "id": "036bd1cf",
   "metadata": {},
   "outputs": [
    {
     "name": "stderr",
     "output_type": "stream",
     "text": [
      "C:\\ProgramData\\Anaconda3\\lib\\site-packages\\pandas\\core\\frame.py:3191: SettingWithCopyWarning: \n",
      "A value is trying to be set on a copy of a slice from a DataFrame.\n",
      "Try using .loc[row_indexer,col_indexer] = value instead\n",
      "\n",
      "See the caveats in the documentation: https://pandas.pydata.org/pandas-docs/stable/user_guide/indexing.html#returning-a-view-versus-a-copy\n",
      "  self[k1] = value[k2]\n"
     ]
    },
    {
     "data": {
      "text/plain": [
       "(1461, 3)"
      ]
     },
     "execution_count": 33,
     "metadata": {},
     "output_type": "execute_result"
    }
   ],
   "source": [
    "le = LabelEncoder()\n",
    "X_test[cat_atr] = X_test[cat_atr].apply(le.fit_transform)\n",
    "\n",
    "Xtr1 = X_test[cat_atr] \n",
    "Xtr1.shape "
   ]
  },
  {
   "cell_type": "code",
   "execution_count": 34,
   "id": "2de1c153",
   "metadata": {},
   "outputs": [],
   "source": [
    "dt = DecisionTreeClassifier(criterion=\"gini\", max_depth=None)"
   ]
  },
  {
   "cell_type": "code",
   "execution_count": 35,
   "id": "352ffc89",
   "metadata": {},
   "outputs": [
    {
     "data": {
      "text/plain": [
       "DecisionTreeClassifier()"
      ]
     },
     "execution_count": 35,
     "metadata": {},
     "output_type": "execute_result"
    }
   ],
   "source": [
    "dt.fit(Xtr,y_train)"
   ]
  },
  {
   "cell_type": "code",
   "execution_count": 36,
   "id": "70bf8419",
   "metadata": {},
   "outputs": [],
   "source": [
    "y_pred = dt.predict(Xtr1)"
   ]
  },
  {
   "cell_type": "code",
   "execution_count": 38,
   "id": "779826d4",
   "metadata": {},
   "outputs": [
    {
     "data": {
      "text/plain": [
       "0.46406570841889117"
      ]
     },
     "execution_count": 38,
     "metadata": {},
     "output_type": "execute_result"
    }
   ],
   "source": [
    "np.sum((y_test == y_pred))/y_test.size\n",
    "# Accuracy is 46.40%"
   ]
  },
  {
   "cell_type": "code",
   "execution_count": 39,
   "id": "5cc3dab0",
   "metadata": {},
   "outputs": [
    {
     "data": {
      "text/plain": [
       "Index(['author', 'statement', 'source', 'target', 'BinaryTarget',\n",
       "       'BinaryNumTarget'],\n",
       "      dtype='object')"
      ]
     },
     "execution_count": 39,
     "metadata": {},
     "output_type": "execute_result"
    }
   ],
   "source": [
    "df.columns"
   ]
  },
  {
   "cell_type": "code",
   "execution_count": 40,
   "id": "01740584",
   "metadata": {},
   "outputs": [
    {
     "data": {
      "image/png": "[encoded data removed]",
      "text/plain": [
       "<Figure size 1080x1080 with 1 Axes>"
      ]
     },
     "metadata": {},
     "output_type": "display_data"
    }
   ],
   "source": [
    "_=plt.figure(figsize=(15,15))\n",
    "_=plot_tree(\n",
    "            dt,\n",
    "            max_depth = 3,  # Draw upto depth of 3\n",
    "            rounded = True, # Rounded boxes\n",
    "            filled = True,  # Boxes filled with color\n",
    "            impurity = True,# Show impurity level\n",
    "            node_ids = True,# Display node_id\n",
    "            feature_names = ['author', 'statement', 'source', 'target', 'BinaryTarget',\n",
    "       'BinaryNumTarget'],\n",
    "            class_names = ['0',' 1']\n",
    "            )\n",
    "\n",
    "_=plt.show()"
   ]
  },
  {
   "cell_type": "code",
   "execution_count": null,
   "id": "07bfaf65",
   "metadata": {},
   "outputs": [],
   "source": []
  }
 ],
 "metadata": {
  "kernelspec": {
   "display_name": "Python 3",
   "language": "python",
   "name": "python3"
  },
  "language_info": {
   "codemirror_mode": {
    "name": "ipython",
    "version": 3
   },
   "file_extension": ".py",
   "mimetype": "text/x-python",
   "name": "python",
   "nbconvert_exporter": "python",
   "pygments_lexer": "ipython3",
   "version": "3.8.8"
  }
 },
 "nbformat": 4,
 "nbformat_minor": 5
}
